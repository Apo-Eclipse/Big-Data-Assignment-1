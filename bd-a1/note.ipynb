{
 "cells": [
  {
   "cell_type": "code",
   "execution_count": 1,
   "metadata": {},
   "outputs": [],
   "source": [
    "import pandas as pd\n",
    "import numpy as np\n",
    "import matplotlib.pyplot as plt\n",
    "import seaborn as sns\n",
    "import scipy as sp"
   ]
  },
  {
   "cell_type": "code",
   "execution_count": 2,
   "metadata": {},
   "outputs": [],
   "source": [
    "def load(file_name):\n",
    "    return pd.read_csv(file_name)"
   ]
  },
  {
   "cell_type": "code",
   "execution_count": 3,
   "metadata": {},
   "outputs": [],
   "source": [
    "df = load('customer_shopping_data.csv')"
   ]
  },
  {
   "cell_type": "code",
   "execution_count": 4,
   "metadata": {},
   "outputs": [],
   "source": [
    "# vis.py\n",
    "def vs(df):\n",
    "    sns.histplot(df['price'], bins=7, kde=False)\n",
    "    plt.xlabel('Price')\n",
    "    plt.ylabel('Frequency')\n",
    "    plt.title('Histogram of Prices')\n",
    "    plt.savefig('vis.png')"
   ]
  },
  {
   "cell_type": "code",
   "execution_count": 5,
   "metadata": {},
   "outputs": [],
   "source": [
    "# preprocessing\n",
    "import sklearn\n",
    "from sklearn import preprocessing\n",
    "\n",
    "def pre(df):  \n",
    "    # cleaning\n",
    "    # remove duplicates\n",
    "    df.drop_duplicates(subset=['gender', 'age', 'category', 'quantity','price', 'payment_method','shopping_mall'], keep='first', inplace=True)\n",
    "    \n",
    "    # cleaning \n",
    "    # not all dates are in the same format\n",
    "    def r_format(arg):\n",
    "        left_ind = arg.find('/')\n",
    "        if left_ind == 1:\n",
    "            arg = '0' + arg\n",
    "            left_ind+=1\n",
    "        if arg[left_ind+2] == '/':\n",
    "            arg = arg[:left_ind+1] + '0' + arg[left_ind+1:]\n",
    "        return arg\n",
    "    \n",
    "    df['invoice_date'] = df['invoice_date'].apply(r_format)\n",
    "    df['invoice_date'] = pd.to_datetime(df['invoice_date'], format='%d/%m/%Y')\n",
    "    \n",
    "    \n",
    "    def categorization(price,step1,step2):\n",
    "        if price < step1:\n",
    "            return 0\n",
    "        elif price < step2:\n",
    "            return 1\n",
    "        else:\n",
    "            return 2\n",
    "\n",
    "    # discretizing \n",
    "    # for price column\n",
    "    step1 = df.price.quantile(1/3)\n",
    "    step2 = df.price.quantile(3/4)\n",
    "    df['categorized_price'] = df['price'].apply(categorization,step1=step1,step2=step2)\n",
    "    \n",
    "    \n",
    "    # discretizing\n",
    "    # for age column\n",
    "    step1 = df.age.quantile(1/3)\n",
    "    step2 = df.age.quantile(3/4)\n",
    "    df['categorized_ages'] = df['age'].apply(categorization,step1=step1,step2=step2)\n",
    "    \n",
    "    \n",
    "    #Transformation\n",
    "    df['month'] = pd.to_datetime(df['invoice_date']).dt.month\n",
    "    df['year'] = pd.to_datetime(df['invoice_date']).dt.year\n",
    "    df['day'] = pd.to_datetime(df['invoice_date']).dt.day\n",
    "    df.drop(columns=['invoice_date','invoice_no'], inplace=True)\n",
    "\n",
    "    \n",
    "    # reduction\n",
    "    df_out = df.copy()\n",
    "    df_out.drop(columns=['price','month','year','day','customer_id'], inplace=True)\n",
    "    \n",
    "    \n",
    "    # encoding categorical columns\n",
    "    le = sklearn.preprocessing.LabelEncoder()\n",
    "    categorical_columns = ['gender', 'category', 'payment_method', 'shopping_mall']\n",
    "    for col in categorical_columns:\n",
    "        df_out[col] = le.fit_transform(df_out[col])\n",
    "    \n",
    "    # Transformation\n",
    "    standardize = preprocessing.StandardScaler()\n",
    "    df_stan = standardize.fit_transform(df_out)\n",
    "    \n",
    "    pd.DataFrame(df_stan).to_csv('res_dpre.csv', index=False)\n",
    "    \n",
    "    \n",
    "    \n",
    "    return df_stan"
   ]
  },
  {
   "cell_type": "code",
   "execution_count": 6,
   "metadata": {},
   "outputs": [],
   "source": [
    "d = pre(df)"
   ]
  },
  {
   "cell_type": "code",
   "execution_count": 7,
   "metadata": {},
   "outputs": [
    {
     "data": {
      "image/png": "[encoded data removed]",
      "text/plain": [
       "<Figure size 640x480 with 1 Axes>"
      ]
     },
     "metadata": {},
     "output_type": "display_data"
    }
   ],
   "source": [
    "vs(df)"
   ]
  },
  {
   "cell_type": "code",
   "execution_count": 8,
   "metadata": {},
   "outputs": [],
   "source": [
    "# EDA\n",
    "from numpy import floor \n",
    "def eda1(df):\n",
    "    # first\n",
    "    total = floor(df.groupby(['month','year'])['customer_id'].count().groupby('month').mean())\n",
    "    total.name = 'floored average number of customers per month for all year'\n",
    "    total.sort_values(ascending=False, inplace=True)\n",
    "    total.to_csv('eda-in-1.txt', sep='\\t', index=True)\n",
    "\n",
    "    # second\n",
    "    df2 = df[['categorized_price','payment_method']]\n",
    "    eda2 = df2[df2.categorized_price == 2].value_counts()\n",
    "    eda2.name = 'counts of payment methods for products in the fourth quartile'\n",
    "    eda2.to_csv('eda-in-2.txt', sep='\\t', index=True)\n",
    "\n",
    "    # third\n",
    "    sales_df = df[['shopping_mall','price','quantity']]\n",
    "    sales_df['total_sales'] = sales_df['price'] * sales_df['quantity']\n",
    "    sales_df = sales_df.groupby('shopping_mall')['total_sales'].sum()\n",
    "    sales_df.name = 'total sales for each shopping mall'\n",
    "    sales_df.sort_values(ascending=False, inplace=True)\n",
    "    sales_df.to_csv('eda-in-3.txt', sep='\\t', index=True)"
   ]
  },
  {
   "cell_type": "code",
   "execution_count": 9,
   "metadata": {},
   "outputs": [
    {
     "name": "stderr",
     "output_type": "stream",
     "text": [
      "C:\\Users\\user\\AppData\\Local\\Temp\\ipykernel_30988\\3307213384.py:18: SettingWithCopyWarning: \n",
      "A value is trying to be set on a copy of a slice from a DataFrame.\n",
      "Try using .loc[row_indexer,col_indexer] = value instead\n",
      "\n",
      "See the caveats in the documentation: https://pandas.pydata.org/pandas-docs/stable/user_guide/indexing.html#returning-a-view-versus-a-copy\n",
      "  sales_df['total_sales'] = sales_df['price'] * sales_df['quantity']\n"
     ]
    }
   ],
   "source": [
    "eda1(df)"
   ]
  },
  {
   "cell_type": "code",
   "execution_count": 10,
   "metadata": {},
   "outputs": [],
   "source": [
    "# model \n",
    "from sklearn.cluster import KMeans\n",
    "def model():\n",
    "    df = load('res_dpre.csv')\n",
    "    kmeans_model = KMeans(n_clusters=3)\n",
    "    kmeans_model.fit(df)\n",
    "    labels = kmeans_model.predict(df)\n",
    "    d = pd.DataFrame(df)\n",
    "    d['cluster'] = labels\n",
    "    values = d.cluster.value_counts()\n",
    "    values.to_csv('k.txt', sep='\\t', index=True)"
   ]
  },
  {
   "cell_type": "code",
   "execution_count": 11,
   "metadata": {},
   "outputs": [],
   "source": [
    "model()"
   ]
  },
  {
   "cell_type": "code",
   "execution_count": 12,
   "metadata": {},
   "outputs": [
    {
     "data": {
      "text/plain": [
       "(54200, 8)"
      ]
     },
     "execution_count": 12,
     "metadata": {},
     "output_type": "execute_result"
    }
   ],
   "source": [
    "d.shape"
   ]
  },
  {
   "cell_type": "code",
   "execution_count": null,
   "metadata": {},
   "outputs": [],
   "source": []
  }
 ],
 "metadata": {
  "kernelspec": {
   "display_name": "Python 3",
   "language": "python",
   "name": "python3"
  },
  "language_info": {
   "codemirror_mode": {
    "name": "ipython",
    "version": 3
   },
   "file_extension": ".py",
   "mimetype": "text/x-python",
   "name": "python",
   "nbconvert_exporter": "python",
   "pygments_lexer": "ipython3",
   "version": "3.9.19"
  }
 },
 "nbformat": 4,
 "nbformat_minor": 2
}
